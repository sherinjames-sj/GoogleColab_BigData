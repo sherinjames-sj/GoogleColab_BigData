{
  "nbformat": 4,
  "nbformat_minor": 0,
  "metadata": {
    "colab": {
      "provenance": [],
      "authorship_tag": "ABX9TyNioqRxW+WI7taeLsOdHHRI",
      "include_colab_link": true
    },
    "kernelspec": {
      "name": "python3",
      "display_name": "Python 3"
    },
    "language_info": {
      "name": "python"
    }
  },
  "cells": [
    {
      "cell_type": "markdown",
      "metadata": {
        "id": "view-in-github",
        "colab_type": "text"
      },
      "source": [
        "<a href=\"https://colab.research.google.com/github/sherinjames-sj/GoogleColab_BigData/blob/main/Uber.ipynb\" target=\"_parent\"><img src=\"https://colab.research.google.com/assets/colab-badge.svg\" alt=\"Open In Colab\"/></a>"
      ]
    },
    {
      "cell_type": "code",
      "execution_count": null,
      "metadata": {
        "id": "m400b1mn092n",
        "colab": {
          "base_uri": "https://localhost:8080/"
        },
        "outputId": "e25cce97-48fb-4dd6-9450-e0ddee4b59de"
      },
      "outputs": [
        {
          "output_type": "stream",
          "name": "stdout",
          "text": [
            "Looking in indexes: https://pypi.org/simple, https://us-python.pkg.dev/colab-wheels/public/simple/\n",
            "Collecting pyspark\n",
            "  Downloading pyspark-3.3.1.tar.gz (281.4 MB)\n",
            "\u001b[K     |████████████████████████████████| 281.4 MB 36 kB/s \n",
            "\u001b[?25hCollecting py4j==0.10.9.5\n",
            "  Downloading py4j-0.10.9.5-py2.py3-none-any.whl (199 kB)\n",
            "\u001b[K     |████████████████████████████████| 199 kB 36.0 MB/s \n",
            "\u001b[?25hBuilding wheels for collected packages: pyspark\n",
            "  Building wheel for pyspark (setup.py) ... \u001b[?25l\u001b[?25hdone\n",
            "  Created wheel for pyspark: filename=pyspark-3.3.1-py2.py3-none-any.whl size=281845512 sha256=2ff27307acb8840a1de447104ef2968dbb8a57bb58785f33fd4fa2f4d39940b7\n",
            "  Stored in directory: /root/.cache/pip/wheels/43/dc/11/ec201cd671da62fa9c5cc77078235e40722170ceba231d7598\n",
            "Successfully built pyspark\n",
            "Installing collected packages: py4j, pyspark\n",
            "Successfully installed py4j-0.10.9.5 pyspark-3.3.1\n"
          ]
        }
      ],
      "source": [
        "!pip install pyspark"
      ]
    },
    {
      "cell_type": "code",
      "source": [
        "# starts the spark only three steps\n",
        "\n",
        "from pyspark.sql import SparkSession\n",
        "\n",
        "spark = SparkSession.builder\\\n",
        "        .master(\"local\")\\\n",
        "        .appName(\"ClusteringApp\")\\\n",
        "        .enableHiveSupport()\\\n",
        "        .config('spark.ui.port', '4050')\\\n",
        "        .getOrCreate()"
      ],
      "metadata": {
        "id": "2fu2_FlYTaLl"
      },
      "execution_count": null,
      "outputs": []
    },
    {
      "cell_type": "code",
      "source": [
        "df = spark.read.csv('/content/uber.csv',inferSchema=True, header =True)"
      ],
      "metadata": {
        "id": "l7Z5513bTeRd"
      },
      "execution_count": null,
      "outputs": []
    },
    {
      "cell_type": "code",
      "source": [
        "from pyspark.ml.feature import VectorAssembler\n",
        "cols = [\"Lat\", \"Lon\"]\n",
        "\n",
        "assembler=VectorAssembler(inputCols=cols, outputCol=\"features\")\n",
        "featureDf = assembler.transform(df)\n",
        "featureDf.printSchema()\n",
        "featureDf.show(10)"
      ],
      "metadata": {
        "colab": {
          "base_uri": "https://localhost:8080/"
        },
        "id": "QWxcLXnuTlFE",
        "outputId": "45b68d07-8e32-4f50-c5af-cfd1f949c2b9"
      },
      "execution_count": null,
      "outputs": [
        {
          "output_type": "stream",
          "name": "stdout",
          "text": [
            "root\n",
            " |-- Date/Time: string (nullable = true)\n",
            " |-- Lat: double (nullable = true)\n",
            " |-- Lon: double (nullable = true)\n",
            " |-- Base: string (nullable = true)\n",
            " |-- features: vector (nullable = true)\n",
            "\n",
            "+----------------+-------+--------+------+------------------+\n",
            "|       Date/Time|    Lat|     Lon|  Base|          features|\n",
            "+----------------+-------+--------+------+------------------+\n",
            "|5/1/2014 0:02:00|40.7521|-73.9914|B02512|[40.7521,-73.9914]|\n",
            "|5/1/2014 0:06:00|40.6965|-73.9715|B02512|[40.6965,-73.9715]|\n",
            "|5/1/2014 0:15:00|40.7464|-73.9838|B02512|[40.7464,-73.9838]|\n",
            "|5/1/2014 0:17:00|40.7463|-74.0011|B02512|[40.7463,-74.0011]|\n",
            "|5/1/2014 0:17:00|40.7594|-73.9734|B02512|[40.7594,-73.9734]|\n",
            "|5/1/2014 0:20:00|40.7685|-73.8625|B02512|[40.7685,-73.8625]|\n",
            "|5/1/2014 0:21:00|40.7637|-73.9962|B02512|[40.7637,-73.9962]|\n",
            "|5/1/2014 0:21:00|40.7252|-74.0023|B02512|[40.7252,-74.0023]|\n",
            "|5/1/2014 0:25:00|40.7607|-73.9625|B02512|[40.7607,-73.9625]|\n",
            "|5/1/2014 0:25:00|40.7212|-73.9879|B02512|[40.7212,-73.9879]|\n",
            "+----------------+-------+--------+------+------------------+\n",
            "only showing top 10 rows\n",
            "\n"
          ]
        }
      ]
    },
    {
      "cell_type": "code",
      "source": [
        "featureDf.count()\n",
        "trainingData, testData = featureDf.randomSplit([0.7, 0.3], seed = 5043)\n",
        "\n",
        "print(\"Training Dataset Count: \" + str(trainingData.count()))\n",
        "\n",
        "print(\"Test Dataset Count: \" + str(testData.count()))"
      ],
      "metadata": {
        "colab": {
          "base_uri": "https://localhost:8080/"
        },
        "id": "f5ZFKz3HTocM",
        "outputId": "4cf05e74-b63c-47d9-ef1f-a7d31eb23e87"
      },
      "execution_count": null,
      "outputs": [
        {
          "output_type": "stream",
          "name": "stdout",
          "text": [
            "Training Dataset Count: 456664\n",
            "Test Dataset Count: 195771\n"
          ]
        }
      ]
    },
    {
      "cell_type": "code",
      "source": [
        "from pyspark.ml.clustering import KMeans\n",
        "from pyspark.ml.evaluation import ClusteringEvaluator\n",
        "cluster_count = [10,30,50,70,90]\n",
        "for i in cluster_count:\n",
        "  kmeans = KMeans().setK(i).setSeed(1).setFeaturesCol(\"features\").setPredictionCol(\"prediction\")\n",
        "  kmeansModel = kmeans.fit(trainingData)\n",
        "  for clusters in kmeansModel.clusterCenters():\n",
        "    print(clusters)\n",
        "  # test the model with test data set\n",
        "  predictDf = kmeansModel.transform(testData)\n",
        "  predictDf.show(10)\n",
        "  evaluator = ClusteringEvaluator()  \n",
        "  silhouette = evaluator.evaluate(predictDf)\n",
        "  print(\"Silhouette with squared euclidean distance = \" + str(silhouette))"
      ],
      "metadata": {
        "colab": {
          "base_uri": "https://localhost:8080/"
        },
        "id": "jaTa-wcjTzHG",
        "outputId": "57fca7c9-cb45-4b35-d6bc-1a7faa336145"
      },
      "execution_count": null,
      "outputs": [
        {
          "output_type": "stream",
          "name": "stdout",
          "text": [
            "[ 40.78440111 -73.87986571]\n",
            "[ 40.73136735 -73.99816839]\n",
            "[ 40.6553274  -73.78267457]\n",
            "[ 40.67212149 -73.98072025]\n",
            "[ 40.77461643 -73.5226611 ]\n",
            "[ 40.7056154  -74.18187761]\n",
            "[ 40.70767738 -73.94506654]\n",
            "[ 41.00821709 -73.73111464]\n",
            "[ 40.76630048 -73.97310198]\n",
            "[ 40.61399584 -74.44371579]\n",
            "+----------------+-------+--------+------+------------------+----------+\n",
            "|       Date/Time|    Lat|     Lon|  Base|          features|prediction|\n",
            "+----------------+-------+--------+------+------------------+----------+\n",
            "|5/1/2014 0:01:00| 40.694|-73.9872|B02598| [40.694,-73.9872]|         3|\n",
            "|5/1/2014 0:01:00|40.7469|-73.9884|B02682|[40.7469,-73.9884]|         1|\n",
            "|5/1/2014 0:02:00|40.7106|-73.9662|B02598|[40.7106,-73.9662]|         6|\n",
            "|5/1/2014 0:02:00|40.7487|-74.0035|B02682|[40.7487,-74.0035]|         1|\n",
            "|5/1/2014 0:02:00|40.7509|-74.0036|B02617|[40.7509,-74.0036]|         1|\n",
            "|5/1/2014 0:02:00|40.7521|-73.9914|B02512|[40.7521,-73.9914]|         1|\n",
            "|5/1/2014 0:03:00|40.6482| -73.783|B02682| [40.6482,-73.783]|         2|\n",
            "|5/1/2014 0:04:00|40.7187|-74.0059|B02617|[40.7187,-74.0059]|         1|\n",
            "|5/1/2014 0:04:00|40.7313|-73.9747|B02682|[40.7313,-73.9747]|         1|\n",
            "|5/1/2014 0:04:00|40.7623|-73.9863|B02617|[40.7623,-73.9863]|         8|\n",
            "+----------------+-------+--------+------+------------------+----------+\n",
            "only showing top 10 rows\n",
            "\n",
            "Silhouette with squared euclidean distance = 0.6433273823415419\n",
            "[ 40.77378473 -73.95395558]\n",
            "[ 40.6474227  -73.78394061]\n",
            "[ 40.71786259 -73.95303053]\n",
            "[ 40.7153346  -74.00804673]\n",
            "[ 40.68470685 -73.99099426]\n",
            "[ 40.61790323 -73.97826964]\n",
            "[ 40.80524583 -73.12851042]\n",
            "[ 40.7612587  -73.98315216]\n",
            "[ 40.74179213 -73.98570948]\n",
            "[ 41.02976    -73.64776687]\n",
            "[ 40.73692697 -74.00340444]\n",
            "[ 40.76682281 -73.86885124]\n",
            "[ 40.73905662 -74.38798787]\n",
            "[ 40.75114943 -73.55993134]\n",
            "[ 40.81230491 -73.94484592]\n",
            "[ 40.43643835 -74.51912105]\n",
            "[ 40.98284157 -73.80482098]\n",
            "[ 40.75318921 -73.99629063]\n",
            "[ 40.69359054 -74.18050711]\n",
            "[ 40.73787563 -74.03981252]\n",
            "[ 41.12544091 -73.39158788]\n",
            "[ 40.93095333 -74.06984958]\n",
            "[ 40.68855435 -73.91721318]\n",
            "[ 40.75855806 -73.97091862]\n",
            "[ 40.87186996 -73.89618979]\n",
            "[ 40.82670129 -74.18639936]\n",
            "[ 40.73880264 -73.76268921]\n",
            "[ 40.78426992 -73.97724626]\n",
            "[ 40.72460461 -73.99157801]\n",
            "[ 40.6792736  -73.96158842]\n",
            "+----------------+-------+--------+------+------------------+----------+\n",
            "|       Date/Time|    Lat|     Lon|  Base|          features|prediction|\n",
            "+----------------+-------+--------+------+------------------+----------+\n",
            "|5/1/2014 0:01:00| 40.694|-73.9872|B02598| [40.694,-73.9872]|         4|\n",
            "|5/1/2014 0:01:00|40.7469|-73.9884|B02682|[40.7469,-73.9884]|         8|\n",
            "|5/1/2014 0:02:00|40.7106|-73.9662|B02598|[40.7106,-73.9662]|         2|\n",
            "|5/1/2014 0:02:00|40.7487|-74.0035|B02682|[40.7487,-74.0035]|        17|\n",
            "|5/1/2014 0:02:00|40.7509|-74.0036|B02617|[40.7509,-74.0036]|        17|\n",
            "|5/1/2014 0:02:00|40.7521|-73.9914|B02512|[40.7521,-73.9914]|        17|\n",
            "|5/1/2014 0:03:00|40.6482| -73.783|B02682| [40.6482,-73.783]|         1|\n",
            "|5/1/2014 0:04:00|40.7187|-74.0059|B02617|[40.7187,-74.0059]|         3|\n",
            "|5/1/2014 0:04:00|40.7313|-73.9747|B02682|[40.7313,-73.9747]|         8|\n",
            "|5/1/2014 0:04:00|40.7623|-73.9863|B02617|[40.7623,-73.9863]|         7|\n",
            "+----------------+-------+--------+------+------------------+----------+\n",
            "only showing top 10 rows\n",
            "\n",
            "Silhouette with squared euclidean distance = 0.5432362514107358\n",
            "[ 40.74871542 -73.97500366]\n",
            "[ 40.6176507  -73.96104593]\n",
            "[ 40.73114849 -73.79994206]\n",
            "[ 40.64641311 -73.78303945]\n",
            "[ 41.02108889 -73.68052396]\n",
            "[ 40.6950894  -74.18070535]\n",
            "[ 40.70735434 -74.0096764 ]\n",
            "[ 40.77106596 -73.9840358 ]\n",
            "[ 40.65922918 -73.91612355]\n",
            "[ 40.87675037 -73.88268861]\n",
            "[ 40.37451406 -74.63402656]\n",
            "[ 40.98951166 -73.80711637]\n",
            "[ 40.72636571 -73.61818095]\n",
            "[ 40.67979961 -73.9637559 ]\n",
            "[ 40.76572249 -73.89648035]\n",
            "[ 40.93005763 -74.07169619]\n",
            "[ 40.71663525 -73.98974383]\n",
            "[ 40.76361674 -74.39867313]\n",
            "[ 40.77532696 -73.95603754]\n",
            "[ 40.23678824 -74.04855294]\n",
            "[ 40.7579223  -73.97998519]\n",
            "[ 40.798125   -73.92956652]\n",
            "[ 40.72122859 -74.04669944]\n",
            "[ 40.84416922 -73.93563327]\n",
            "[ 40.82563993 -74.18802772]\n",
            "[ 40.75813187 -73.99129758]\n",
            "[ 40.53589077 -74.36972077]\n",
            "[ 40.72946292 -73.98185195]\n",
            "[ 40.72426653 -74.00072709]\n",
            "[ 40.68217552 -73.99152751]\n",
            "[ 40.7178071  -73.95558968]\n",
            "[ 40.90676667 -72.38413333]\n",
            "[ 40.77974181 -73.46057414]\n",
            "[ 40.77115645 -73.86602196]\n",
            "[ 40.71040218 -73.85468527]\n",
            "[ 40.74349492 -73.98894325]\n",
            "[ 40.75038798 -74.00093086]\n",
            "[ 40.814665 -73.14944 ]\n",
            "[ 40.75360295 -73.71504303]\n",
            "[ 40.75177318 -74.03444288]\n",
            "[ 40.76173136 -73.96949736]\n",
            "[ 40.73208655 -73.9932175 ]\n",
            "[ 41.08819627 -73.47326567]\n",
            "[ 40.73820001 -74.00484395]\n",
            "[ 40.7525836  -73.93263108]\n",
            "[ 40.69877533 -73.92928828]\n",
            "[ 40.63122467 -74.01989525]\n",
            "[ 40.78719772 -73.97507436]\n",
            "[ 40.80748553 -73.95582526]\n",
            "[ 40.71828065 -74.00957513]\n",
            "+----------------+-------+--------+------+------------------+----------+\n",
            "|       Date/Time|    Lat|     Lon|  Base|          features|prediction|\n",
            "+----------------+-------+--------+------+------------------+----------+\n",
            "|5/1/2014 0:01:00| 40.694|-73.9872|B02598| [40.694,-73.9872]|        29|\n",
            "|5/1/2014 0:01:00|40.7469|-73.9884|B02682|[40.7469,-73.9884]|        35|\n",
            "|5/1/2014 0:02:00|40.7106|-73.9662|B02598|[40.7106,-73.9662]|        30|\n",
            "|5/1/2014 0:02:00|40.7487|-74.0035|B02682|[40.7487,-74.0035]|        36|\n",
            "|5/1/2014 0:02:00|40.7509|-74.0036|B02617|[40.7509,-74.0036]|        36|\n",
            "|5/1/2014 0:02:00|40.7521|-73.9914|B02512|[40.7521,-73.9914]|        25|\n",
            "|5/1/2014 0:03:00|40.6482| -73.783|B02682| [40.6482,-73.783]|         3|\n",
            "|5/1/2014 0:04:00|40.7187|-74.0059|B02617|[40.7187,-74.0059]|        49|\n",
            "|5/1/2014 0:04:00|40.7313|-73.9747|B02682|[40.7313,-73.9747]|        27|\n",
            "|5/1/2014 0:04:00|40.7623|-73.9863|B02617|[40.7623,-73.9863]|        25|\n",
            "+----------------+-------+--------+------+------------------+----------+\n",
            "only showing top 10 rows\n",
            "\n",
            "Silhouette with squared euclidean distance = 0.5291817255008855\n",
            "[ 40.71901399 -73.98764388]\n",
            "[ 40.77496826 -73.98304036]\n",
            "[ 40.69510483 -74.1796687 ]\n",
            "[ 40.77079862 -73.96056547]\n",
            "[ 40.80523824 -73.13509412]\n",
            "[ 40.64627568 -73.78561685]\n",
            "[ 40.71440208 -74.01322174]\n",
            "[ 40.7375585  -73.99612679]\n",
            "[ 40.78173984 -73.41407109]\n",
            "[ 40.71463094 -73.96056786]\n",
            "[ 40.69787897 -73.92009709]\n",
            "[ 40.71678228 -73.62300159]\n",
            "[ 40.77099047 -73.86847442]\n",
            "[ 40.5980728  -73.96625119]\n",
            "[ 41.0393341 -73.8120894]\n",
            "[ 40.79989198 -73.92945502]\n",
            "[ 40.76389209 -74.3860586 ]\n",
            "[ 40.72160615 -73.99931775]\n",
            "[ 40.76077973 -73.91579365]\n",
            "[ 40.74961803 -74.00509601]\n",
            "[ 40.75343139 -73.98270799]\n",
            "[ 41.06810833 -73.5427875 ]\n",
            "[ 40.72090392 -74.00717527]\n",
            "[ 40.56843516 -74.30515824]\n",
            "[ 40.66793838 -73.98541786]\n",
            "[ 40.84446695 -73.93634046]\n",
            "[ 40.76157116 -73.96986133]\n",
            "[ 40.92833811 -73.81099207]\n",
            "[ 40.64507641 -73.95959559]\n",
            "[ 40.67901857 -73.94794553]\n",
            "[ 40.7886785  -73.97397678]\n",
            "[ 40.90676667 -72.38413333]\n",
            "[ 41.01187442 -74.10111744]\n",
            "[ 40.74031651 -74.0055322 ]\n",
            "[ 40.70715724 -74.00916362]\n",
            "[ 40.74449058 -73.9911474 ]\n",
            "[ 40.72579633 -73.99320073]\n",
            "[ 40.75768048 -73.71346579]\n",
            "[ 40.70816469 -73.9426705 ]\n",
            "[ 40.73098598 -74.00381107]\n",
            "[ 41.01198439 -73.68815576]\n",
            "[ 40.72818381 -73.98075864]\n",
            "[ 40.73420896 -73.80224359]\n",
            "[ 40.33961296 -74.63587222]\n",
            "[ 40.64771994 -73.76990938]\n",
            "[ 40.75365609 -73.97387651]\n",
            "[ 40.64844175 -73.90689456]\n",
            "[ 40.65815769 -74.57893462]\n",
            "[ 40.75381041 -73.99184545]\n",
            "[ 40.78187877 -73.52396781]\n",
            "[ 40.74715173 -73.94588141]\n",
            "[ 40.68053333 -74.00190397]\n",
            "[ 40.74257255 -73.98146439]\n",
            "[ 40.77903536 -73.95217483]\n",
            "[ 40.875067   -73.88740703]\n",
            "[ 40.76279433 -73.99501407]\n",
            "[ 40.80849426 -73.95562887]\n",
            "[ 40.7343542  -73.98905329]\n",
            "[ 40.71157215 -73.85382953]\n",
            "[ 40.62814638 -74.02491919]\n",
            "[ 40.72521189 -73.9524943 ]\n",
            "[ 40.84484517 -74.07330467]\n",
            "[ 40.69536964 -73.98938142]\n",
            "[ 40.24076667 -74.06185   ]\n",
            "[ 40.68453955 -73.96950225]\n",
            "[ 40.50337308 -74.4475    ]\n",
            "[ 40.76272928 -73.98073142]\n",
            "[ 41.1485525 -73.3356675]\n",
            "[ 40.73482638 -74.0403259 ]\n",
            "[ 40.82245586 -74.21351445]\n",
            "+----------------+-------+--------+------+------------------+----------+\n",
            "|       Date/Time|    Lat|     Lon|  Base|          features|prediction|\n",
            "+----------------+-------+--------+------+------------------+----------+\n",
            "|5/1/2014 0:01:00| 40.694|-73.9872|B02598| [40.694,-73.9872]|        62|\n",
            "|5/1/2014 0:01:00|40.7469|-73.9884|B02682|[40.7469,-73.9884]|        35|\n",
            "|5/1/2014 0:02:00|40.7106|-73.9662|B02598|[40.7106,-73.9662]|         9|\n",
            "|5/1/2014 0:02:00|40.7487|-74.0035|B02682|[40.7487,-74.0035]|        19|\n",
            "|5/1/2014 0:02:00|40.7509|-74.0036|B02617|[40.7509,-74.0036]|        19|\n",
            "|5/1/2014 0:02:00|40.7521|-73.9914|B02512|[40.7521,-73.9914]|        48|\n",
            "|5/1/2014 0:03:00|40.6482| -73.783|B02682| [40.6482,-73.783]|         5|\n",
            "|5/1/2014 0:04:00|40.7187|-74.0059|B02617|[40.7187,-74.0059]|        22|\n",
            "|5/1/2014 0:04:00|40.7313|-73.9747|B02682|[40.7313,-73.9747]|        41|\n",
            "|5/1/2014 0:04:00|40.7623|-73.9863|B02617|[40.7623,-73.9863]|        66|\n",
            "+----------------+-------+--------+------+------------------+----------+\n",
            "only showing top 10 rows\n",
            "\n",
            "Silhouette with squared euclidean distance = 0.5141322767968304\n",
            "[ 40.78062132 -73.97927133]\n",
            "[ 40.64431462 -73.90624142]\n",
            "[ 40.72304432 -73.99731447]\n",
            "[ 41.01802805 -73.6847122 ]\n",
            "[ 40.69199286 -74.17996802]\n",
            "[ 40.76243537 -73.97961364]\n",
            "[ 40.76443502 -73.95939506]\n",
            "[ 40.80898933 -73.95470168]\n",
            "[ 40.71621041 -73.94592804]\n",
            "[ 40.93995068 -73.76466892]\n",
            "[ 40.74061935 -74.00554399]\n",
            "[ 40.64601587 -73.7831581 ]\n",
            "[ 40.68749225 -73.96886458]\n",
            "[ 40.61537348 -73.99712317]\n",
            "[ 40.77148275 -73.86990997]\n",
            "[ 40.99847872 -74.17646809]\n",
            "[ 40.77949464 -73.45756071]\n",
            "[ 40.79173643 -73.97191557]\n",
            "[ 40.75675723 -73.83612652]\n",
            "[ 40.84721947 -73.85238488]\n",
            "[ 40.74317719 -73.98188645]\n",
            "[ 40.50010417 -74.44310417]\n",
            "[ 40.7221308  -74.04054327]\n",
            "[ 40.67309766 -74.00779011]\n",
            "[ 40.76563078 -73.91457579]\n",
            "[ 40.89193433 -73.98032139]\n",
            "[ 40.83647586 -74.22198552]\n",
            "[ 40.62882353 -74.10365647]\n",
            "[ 40.72264663 -74.00548471]\n",
            "[ 40.67328928 -73.95666715]\n",
            "[ 40.75141327 -73.99247824]\n",
            "[ 40.90676667 -72.38413333]\n",
            "[ 40.81401935 -74.43497527]\n",
            "[ 40.64341554 -73.6592777 ]\n",
            "[ 40.75201527 -73.6131219 ]\n",
            "[ 40.7423691 -73.9916937]\n",
            "[ 40.83948966 -73.9343035 ]\n",
            "[ 40.69315922 -73.84522083]\n",
            "[ 40.7425169  -74.16627552]\n",
            "[ 40.76059643 -73.99613625]\n",
            "[ 40.73261303 -73.98980839]\n",
            "[ 40.69971755 -73.91711795]\n",
            "[ 40.70146651 -73.9888056 ]\n",
            "[ 40.33961296 -74.63587222]\n",
            "[ 40.76147896 -73.97062115]\n",
            "[ 40.75518734 -73.9845218 ]\n",
            "[ 40.62953847 -74.02470602]\n",
            "[ 40.7162437  -74.01070532]\n",
            "[ 40.72068013 -73.98865529]\n",
            "[ 40.71606384 -73.96028618]\n",
            "[ 40.7072915  -74.00977122]\n",
            "[ 40.68821172 -73.99196321]\n",
            "[ 40.96769286 -74.07397857]\n",
            "[ 40.67337086 -73.93285957]\n",
            "[ 41.06851261 -73.5422521 ]\n",
            "[ 40.71851778 -74.07570704]\n",
            "[ 40.181      -74.05978333]\n",
            "[ 40.75322327 -73.97455233]\n",
            "[ 40.64129099 -73.96123598]\n",
            "[ 40.77038991 -73.98579956]\n",
            "[ 40.73170865 -74.00476602]\n",
            "[ 40.93235611 -73.84287285]\n",
            "[ 40.74856616 -73.93327948]\n",
            "[ 40.67016775 -73.98261325]\n",
            "[ 40.78290755 -73.95438063]\n",
            "[ 40.79904533 -73.92980594]\n",
            "[ 40.74843313 -74.03260215]\n",
            "[ 40.88091605 -73.89957131]\n",
            "[ 40.73542084 -73.99794444]\n",
            "[ 40.72825033 -73.98062386]\n",
            "[ 40.80227436 -73.15514872]\n",
            "[ 40.73216985 -74.26588603]\n",
            "[ 40.696893   -73.94049664]\n",
            "[ 41.1485525 -73.3356675]\n",
            "[ 40.73058183 -73.87144817]\n",
            "[ 40.59082353 -74.59434706]\n",
            "[ 40.73734167 -74.54875   ]\n",
            "[ 40.74874757 -74.0044342 ]\n",
            "[ 41.04325146 -73.81252233]\n",
            "[ 40.73779581 -73.95494034]\n",
            "[ 40.75250826 -73.71218555]\n",
            "[ 40.54097857 -74.30056429]\n",
            "[ 40.82575941 -74.08724354]\n",
            "[ 40.77467753 -73.94968276]\n",
            "[ 40.77346321 -73.9619567 ]\n",
            "[ 40.59657994 -73.96294391]\n",
            "[ 40.37068 -74.0216 ]\n",
            "[ 40.76448356 -73.78176336]\n",
            "[ 40.70572857 -74.36399714]\n",
            "[ 40.70771377 -73.79542781]\n",
            "+----------------+-------+--------+------+------------------+----------+\n",
            "|       Date/Time|    Lat|     Lon|  Base|          features|prediction|\n",
            "+----------------+-------+--------+------+------------------+----------+\n",
            "|5/1/2014 0:01:00| 40.694|-73.9872|B02598| [40.694,-73.9872]|        51|\n",
            "|5/1/2014 0:01:00|40.7469|-73.9884|B02682|[40.7469,-73.9884]|        35|\n",
            "|5/1/2014 0:02:00|40.7106|-73.9662|B02598|[40.7106,-73.9662]|        49|\n",
            "|5/1/2014 0:02:00|40.7487|-74.0035|B02682|[40.7487,-74.0035]|        77|\n",
            "|5/1/2014 0:02:00|40.7509|-74.0036|B02617|[40.7509,-74.0036]|        77|\n",
            "|5/1/2014 0:02:00|40.7521|-73.9914|B02512|[40.7521,-73.9914]|        30|\n",
            "|5/1/2014 0:03:00|40.6482| -73.783|B02682| [40.6482,-73.783]|        11|\n",
            "|5/1/2014 0:04:00|40.7187|-74.0059|B02617|[40.7187,-74.0059]|        28|\n",
            "|5/1/2014 0:04:00|40.7313|-73.9747|B02682|[40.7313,-73.9747]|        69|\n",
            "|5/1/2014 0:04:00|40.7623|-73.9863|B02617|[40.7623,-73.9863]|         5|\n",
            "+----------------+-------+--------+------+------------------+----------+\n",
            "only showing top 10 rows\n",
            "\n",
            "Silhouette with squared euclidean distance = 0.5317935381085065\n"
          ]
        }
      ]
    },
    {
      "cell_type": "code",
      "source": [
        "# test the model with test data set\n",
        "predictDf = kmeansModel.transform(testData)\n",
        "predictDf.show(10)\n",
        "evaluator = ClusteringEvaluator()  \n",
        "silhouette = evaluator.evaluate(predictDf)\n",
        "print(\"Silhouette with squared euclidean distance = \" + str(silhouette))"
      ],
      "metadata": {
        "colab": {
          "base_uri": "https://localhost:8080/"
        },
        "id": "jrnIl_-gT0aF",
        "outputId": "79e67c73-435a-4b2f-d882-7f38269d7360"
      },
      "execution_count": null,
      "outputs": [
        {
          "output_type": "stream",
          "name": "stdout",
          "text": [
            "+----------------+-------+--------+------+------------------+----------+\n",
            "|       Date/Time|    Lat|     Lon|  Base|          features|prediction|\n",
            "+----------------+-------+--------+------+------------------+----------+\n",
            "|5/1/2014 0:01:00| 40.694|-73.9872|B02598| [40.694,-73.9872]|        51|\n",
            "|5/1/2014 0:01:00|40.7469|-73.9884|B02682|[40.7469,-73.9884]|        35|\n",
            "|5/1/2014 0:02:00|40.7106|-73.9662|B02598|[40.7106,-73.9662]|        49|\n",
            "|5/1/2014 0:02:00|40.7487|-74.0035|B02682|[40.7487,-74.0035]|        77|\n",
            "|5/1/2014 0:02:00|40.7509|-74.0036|B02617|[40.7509,-74.0036]|        77|\n",
            "|5/1/2014 0:02:00|40.7521|-73.9914|B02512|[40.7521,-73.9914]|        30|\n",
            "|5/1/2014 0:03:00|40.6482| -73.783|B02682| [40.6482,-73.783]|        11|\n",
            "|5/1/2014 0:04:00|40.7187|-74.0059|B02617|[40.7187,-74.0059]|        28|\n",
            "|5/1/2014 0:04:00|40.7313|-73.9747|B02682|[40.7313,-73.9747]|        69|\n",
            "|5/1/2014 0:04:00|40.7623|-73.9863|B02617|[40.7623,-73.9863]|         5|\n",
            "+----------------+-------+--------+------+------------------+----------+\n",
            "only showing top 10 rows\n",
            "\n",
            "Silhouette with squared euclidean distance = 0.5317935381085065\n"
          ]
        }
      ]
    },
    {
      "cell_type": "code",
      "source": [
        "predictDf.groupBy(\"prediction\").count().show()"
      ],
      "metadata": {
        "colab": {
          "base_uri": "https://localhost:8080/"
        },
        "id": "oZOJvJgcT5NL",
        "outputId": "e891622e-1ab5-4237-a6b2-20708a18c7e0"
      },
      "execution_count": null,
      "outputs": [
        {
          "output_type": "stream",
          "name": "stdout",
          "text": [
            "+----------+-----+\n",
            "|prediction|count|\n",
            "+----------+-----+\n",
            "|        31|    1|\n",
            "|        85|  368|\n",
            "|        65|  784|\n",
            "|        53|  696|\n",
            "|        78|   84|\n",
            "|        34|  161|\n",
            "|        81|   25|\n",
            "|        28| 6426|\n",
            "|        76|    2|\n",
            "|        27|   53|\n",
            "|        26|   57|\n",
            "|        44|10276|\n",
            "|        12| 2498|\n",
            "|        22|  546|\n",
            "|        47| 4775|\n",
            "|         1|  422|\n",
            "|        52|   46|\n",
            "|        13|  148|\n",
            "|         6| 3696|\n",
            "|        16|   81|\n",
            "+----------+-----+\n",
            "only showing top 20 rows\n",
            "\n"
          ]
        }
      ]
    },
    {
      "cell_type": "code",
      "source": [
        "pddf_pred = predictDf.toPandas()"
      ],
      "metadata": {
        "id": "aa4cdt7ET7fx"
      },
      "execution_count": null,
      "outputs": []
    },
    {
      "cell_type": "code",
      "source": [
        "import matplotlib.pyplot as plt\n",
        "pddf_pred = predictDf.toPandas()\n",
        "pddf_pred.head()\n",
        "fig = plt.figure()\n",
        "KmVis= fig.add_subplot(111)\n",
        "#threedee = plt.figure(figsize=(12,10))\n",
        "KmVis.scatter(pddf_pred.Lat, pddf_pred.Lon,  c=pddf_pred.prediction,s=20)\n",
        "KmVis.set_xlabel('x')\n",
        "KmVis.set_ylabel('y')\n",
        "\n",
        "plt.show()"
      ],
      "metadata": {
        "colab": {
          "base_uri": "https://localhost:8080/",
          "height": 279
        },
        "id": "RaLZDyxrT9Lw",
        "outputId": "590a4b23-8f7f-4bd2-948f-aa502796b2a6"
      },
      "execution_count": null,
      "outputs": [
        {
          "output_type": "display_data",
          "data": {
            "text/plain": [
              "<Figure size 432x288 with 1 Axes>"
            ],
            "image/png": "[encoded data removed]"
          },
          "metadata": {
            "needs_background": "light"
          }
        }
      ]
    },
    {
      "cell_type": "code",
      "source": [
        "kmeansModel.write().overwrite().save(\"uber-model\")\n",
        "kmeansModelLoded = kmeansModel.load(\"uber-model\")\n",
        "df1 = spark.sparkContext.parallelize([\n",
        "    (\"5/1/2014 0:02:00\", 40.7521, -73.9914, \"B02512\"),\n",
        "    (\"5/1/2014 0:06:00\", 40.6965, -73.9715, \"B02512\"),\n",
        "    (\"5/1/2014 0:15:00\", 40.7464, -73.9838, \"B02512\"),\n",
        "    (\"5/1/2014 0:17:00\", 40.7463, -74.0011, \"B02512\"),\n",
        "    (\"5/1/2014 0:17:00\", 40.7594, -73.9734, \"B02512\")]\n",
        "  ).toDF([\"time\", \"Lat\", \"Lon\", \"base\"])\n",
        "df1.show()"
      ],
      "metadata": {
        "colab": {
          "base_uri": "https://localhost:8080/"
        },
        "id": "J3he9EihUDMx",
        "outputId": "23d450b2-56eb-4047-abcd-5acf339887d0"
      },
      "execution_count": null,
      "outputs": [
        {
          "output_type": "stream",
          "name": "stdout",
          "text": [
            "+----------------+-------+--------+------+\n",
            "|            time|    Lat|     Lon|  base|\n",
            "+----------------+-------+--------+------+\n",
            "|5/1/2014 0:02:00|40.7521|-73.9914|B02512|\n",
            "|5/1/2014 0:06:00|40.6965|-73.9715|B02512|\n",
            "|5/1/2014 0:15:00|40.7464|-73.9838|B02512|\n",
            "|5/1/2014 0:17:00|40.7463|-74.0011|B02512|\n",
            "|5/1/2014 0:17:00|40.7594|-73.9734|B02512|\n",
            "+----------------+-------+--------+------+\n",
            "\n"
          ]
        }
      ]
    },
    {
      "cell_type": "code",
      "source": [
        "df2 = assembler.transform(df1)\n",
        "df2.show()"
      ],
      "metadata": {
        "colab": {
          "base_uri": "https://localhost:8080/"
        },
        "id": "F2LfnHG5UHVz",
        "outputId": "c381b913-9df3-418a-8324-7e2665c8664f"
      },
      "execution_count": null,
      "outputs": [
        {
          "output_type": "stream",
          "name": "stdout",
          "text": [
            "+----------------+-------+--------+------+------------------+\n",
            "|            time|    Lat|     Lon|  base|          features|\n",
            "+----------------+-------+--------+------+------------------+\n",
            "|5/1/2014 0:02:00|40.7521|-73.9914|B02512|[40.7521,-73.9914]|\n",
            "|5/1/2014 0:06:00|40.6965|-73.9715|B02512|[40.6965,-73.9715]|\n",
            "|5/1/2014 0:15:00|40.7464|-73.9838|B02512|[40.7464,-73.9838]|\n",
            "|5/1/2014 0:17:00|40.7463|-74.0011|B02512|[40.7463,-74.0011]|\n",
            "|5/1/2014 0:17:00|40.7594|-73.9734|B02512|[40.7594,-73.9734]|\n",
            "+----------------+-------+--------+------+------------------+\n",
            "\n"
          ]
        }
      ]
    },
    {
      "cell_type": "code",
      "source": [
        "# prediction of sample data set with loaded model\n",
        "df3 = kmeansModelLoded.transform(df2)\n",
        "df3.show()"
      ],
      "metadata": {
        "colab": {
          "base_uri": "https://localhost:8080/"
        },
        "id": "C5-ed1LEUKRM",
        "outputId": "eee954f5-332e-4a7f-af4d-38010500b3aa"
      },
      "execution_count": null,
      "outputs": [
        {
          "output_type": "stream",
          "name": "stdout",
          "text": [
            "+----------------+-------+--------+------+------------------+----------+\n",
            "|            time|    Lat|     Lon|  base|          features|prediction|\n",
            "+----------------+-------+--------+------+------------------+----------+\n",
            "|5/1/2014 0:02:00|40.7521|-73.9914|B02512|[40.7521,-73.9914]|        30|\n",
            "|5/1/2014 0:06:00|40.6965|-73.9715|B02512|[40.6965,-73.9715]|        12|\n",
            "|5/1/2014 0:15:00|40.7464|-73.9838|B02512|[40.7464,-73.9838]|        20|\n",
            "|5/1/2014 0:17:00|40.7463|-74.0011|B02512|[40.7463,-74.0011]|        77|\n",
            "|5/1/2014 0:17:00|40.7594|-73.9734|B02512|[40.7594,-73.9734]|        44|\n",
            "+----------------+-------+--------+------+------------------+----------+\n",
            "\n"
          ]
        }
      ]
    }
  ]
}