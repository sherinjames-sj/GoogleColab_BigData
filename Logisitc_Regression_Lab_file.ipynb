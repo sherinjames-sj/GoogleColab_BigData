{
  "nbformat": 4,
  "nbformat_minor": 0,
  "metadata": {
    "colab": {
      "provenance": [],
      "authorship_tag": "ABX9TyMu5uDYwWNYYuxK4iQhLKX4",
      "include_colab_link": true
    },
    "kernelspec": {
      "name": "python3",
      "display_name": "Python 3"
    },
    "language_info": {
      "name": "python"
    }
  },
  "cells": [
    {
      "cell_type": "markdown",
      "metadata": {
        "id": "view-in-github",
        "colab_type": "text"
      },
      "source": [
        "<a href=\"https://colab.research.google.com/github/sherinjames-sj/GoogleColab_BigData/blob/main/Logisitc_Regression_Lab_file.ipynb\" target=\"_parent\"><img src=\"https://colab.research.google.com/assets/colab-badge.svg\" alt=\"Open In Colab\"/></a>"
      ]
    },
    {
      "cell_type": "code",
      "execution_count": null,
      "metadata": {
        "colab": {
          "base_uri": "https://localhost:8080/"
        },
        "id": "Q16qNOuKC0z5",
        "outputId": "4ab8f427-adb1-44d4-9aa6-050298b5cde4"
      },
      "outputs": [
        {
          "output_type": "stream",
          "name": "stdout",
          "text": [
            "Looking in indexes: https://pypi.org/simple, https://us-python.pkg.dev/colab-wheels/public/simple/\n",
            "Collecting pyspark\n",
            "  Downloading pyspark-3.3.1.tar.gz (281.4 MB)\n",
            "\u001b[2K     \u001b[90m━━━━━━━━━━━━━━━━━━━━━━━━━━━━━━━━━━━━━━━\u001b[0m \u001b[32m281.4/281.4 MB\u001b[0m \u001b[31m4.1 MB/s\u001b[0m eta \u001b[36m0:00:00\u001b[0m\n",
            "\u001b[?25h  Preparing metadata (setup.py) ... \u001b[?25l\u001b[?25hdone\n",
            "Collecting py4j==0.10.9.5\n",
            "  Downloading py4j-0.10.9.5-py2.py3-none-any.whl (199 kB)\n",
            "\u001b[2K     \u001b[90m━━━━━━━━━━━━━━━━━━━━━━━━━━━━━━━━━━━━━━\u001b[0m \u001b[32m199.7/199.7 KB\u001b[0m \u001b[31m15.0 MB/s\u001b[0m eta \u001b[36m0:00:00\u001b[0m\n",
            "\u001b[?25hBuilding wheels for collected packages: pyspark\n",
            "  Building wheel for pyspark (setup.py) ... \u001b[?25l\u001b[?25hdone\n",
            "  Created wheel for pyspark: filename=pyspark-3.3.1-py2.py3-none-any.whl size=281845512 sha256=f14367a3b7afb4dbde405da343b6af160b5eac2762b958f7ff9aa491505b7513\n",
            "  Stored in directory: /root/.cache/pip/wheels/43/dc/11/ec201cd671da62fa9c5cc77078235e40722170ceba231d7598\n",
            "Successfully built pyspark\n",
            "Installing collected packages: py4j, pyspark\n",
            "Successfully installed py4j-0.10.9.5 pyspark-3.3.1\n"
          ]
        }
      ],
      "source": [
        "#Install pyspark in google colab\n",
        "!pip install pyspark"
      ]
    },
    {
      "cell_type": "code",
      "source": [
        "from pyspark.sql import SparkSession\n",
        "spark = SparkSession.builder.master(\"local[*]\").getOrCreate()\n",
        "\n",
        "spark = SparkSession \\\n",
        "    .builder \\\n",
        "    .appName(\"Python Spark SQL basic example\") \\\n",
        "    .config(\"spark.some.config.option\", \"some-value\") \\\n",
        "    .getOrCreate()"
      ],
      "metadata": {
        "id": "YRqvAslmEvm2"
      },
      "execution_count": null,
      "outputs": []
    },
    {
      "cell_type": "code",
      "source": [
        "spark"
      ],
      "metadata": {
        "colab": {
          "base_uri": "https://localhost:8080/",
          "height": 219
        },
        "id": "nbx_AJywE4MM",
        "outputId": "960c7bbc-ae1a-4313-e12b-81d365915691"
      },
      "execution_count": null,
      "outputs": [
        {
          "output_type": "execute_result",
          "data": {
            "text/plain": [
              "<pyspark.sql.session.SparkSession at 0x7f27db744c70>"
            ],
            "text/html": [
              "\n",
              "            <div>\n",
              "                <p><b>SparkSession - in-memory</b></p>\n",
              "                \n",
              "        <div>\n",
              "            <p><b>SparkContext</b></p>\n",
              "\n",
              "            <p><a href=\"http://1ad164eb1c4b:4040\">Spark UI</a></p>\n",
              "\n",
              "            <dl>\n",
              "              <dt>Version</dt>\n",
              "                <dd><code>v3.3.1</code></dd>\n",
              "              <dt>Master</dt>\n",
              "                <dd><code>local[*]</code></dd>\n",
              "              <dt>AppName</dt>\n",
              "                <dd><code>pyspark-shell</code></dd>\n",
              "            </dl>\n",
              "        </div>\n",
              "        \n",
              "            </div>\n",
              "        "
            ]
          },
          "metadata": {},
          "execution_count": 3
        }
      ]
    },
    {
      "cell_type": "code",
      "source": [
        "dataset = spark.read.format(\"csv\").option(\"header\",\"true\").option(\"inferSchema\", \"true\").load(\"/content/diabetes (2) (1).csv\")"
      ],
      "metadata": {
        "id": "oUOI4KLSJcLc"
      },
      "execution_count": null,
      "outputs": []
    },
    {
      "cell_type": "code",
      "source": [
        "dataset.show()"
      ],
      "metadata": {
        "colab": {
          "base_uri": "https://localhost:8080/"
        },
        "id": "LFXp_B8RJ_mF",
        "outputId": "4d1f91d8-d288-465b-ceb7-a1f1f024abb5"
      },
      "execution_count": null,
      "outputs": [
        {
          "output_type": "stream",
          "name": "stdout",
          "text": [
            "+-----------+-------+-------------+-------------+-------+----+------------------------+---+-------+\n",
            "|Pregnancies|Glucose|BloodPressure|SkinThickness|Insulin| BMI|DiabetesPedigreeFunction|Age|Outcome|\n",
            "+-----------+-------+-------------+-------------+-------+----+------------------------+---+-------+\n",
            "|          6|    148|           72|           35|      0|33.6|                   0.627| 50|      1|\n",
            "|          1|     85|           66|           29|      0|26.6|                   0.351| 31|      0|\n",
            "|          8|    183|           64|            0|      0|23.3|                   0.672| 32|      1|\n",
            "|          1|     89|           66|           23|     94|28.1|                   0.167| 21|      0|\n",
            "|          0|    137|           40|           35|    168|43.1|                   2.288| 33|      1|\n",
            "|          5|    116|           74|            0|      0|25.6|                   0.201| 30|      0|\n",
            "|          3|     78|           50|           32|     88|31.0|                   0.248| 26|      1|\n",
            "|         10|    115|            0|            0|      0|35.3|                   0.134| 29|      0|\n",
            "|          2|    197|           70|           45|    543|30.5|                   0.158| 53|      1|\n",
            "|          8|    125|           96|            0|      0| 0.0|                   0.232| 54|      1|\n",
            "|          4|    110|           92|            0|      0|37.6|                   0.191| 30|      0|\n",
            "|         10|    168|           74|            0|      0|38.0|                   0.537| 34|      1|\n",
            "|         10|    139|           80|            0|      0|27.1|                   1.441| 57|      0|\n",
            "|          1|    189|           60|           23|    846|30.1|                   0.398| 59|      1|\n",
            "|          5|    166|           72|           19|    175|25.8|                   0.587| 51|      1|\n",
            "|          7|    100|            0|            0|      0|30.0|                   0.484| 32|      1|\n",
            "|          0|    118|           84|           47|    230|45.8|                   0.551| 31|      1|\n",
            "|          7|    107|           74|            0|      0|29.6|                   0.254| 31|      1|\n",
            "|          1|    103|           30|           38|     83|43.3|                   0.183| 33|      0|\n",
            "|          1|    115|           70|           30|     96|34.6|                   0.529| 32|      1|\n",
            "+-----------+-------+-------------+-------------+-------+----+------------------------+---+-------+\n",
            "only showing top 20 rows\n",
            "\n"
          ]
        }
      ]
    },
    {
      "cell_type": "code",
      "source": [
        "dataset.columns"
      ],
      "metadata": {
        "colab": {
          "base_uri": "https://localhost:8080/"
        },
        "id": "AiHAA_oIKdvg",
        "outputId": "c3f8ed08-e9ad-4989-8f79-e144a7344ded"
      },
      "execution_count": null,
      "outputs": [
        {
          "output_type": "execute_result",
          "data": {
            "text/plain": [
              "['Pregnancies',\n",
              " 'Glucose',\n",
              " 'BloodPressure',\n",
              " 'SkinThickness',\n",
              " 'Insulin',\n",
              " 'BMI',\n",
              " 'DiabetesPedigreeFunction',\n",
              " 'Age',\n",
              " 'Outcome']"
            ]
          },
          "metadata": {},
          "execution_count": 9
        }
      ]
    },
    {
      "cell_type": "code",
      "source": [
        "print('Summary, Pregnancies, Glucose, BloodPressure')\n",
        "dataset.describe().select(\"Summary\",\"Pregnancies\",\"Glucose\",\"BloodPressure\").show()\n",
        "\n",
        "print('Summary, SkinThickness, Insulin')\n",
        "dataset.describe().select(\"Summary\",\"SkinThickness\",\"Insulin\").show()\n",
        "\n",
        "print('Summary, BMI, DiabetesPedigreeFunction, Age')\n",
        "dataset.describe().select(\"Summary\",\"BMI\",\"DiabetesPedigreeFunction\",\"Age\").show()"
      ],
      "metadata": {
        "colab": {
          "base_uri": "https://localhost:8080/"
        },
        "id": "AQ8no95nKdsx",
        "outputId": "c714f326-9580-49e2-9edf-cfd283fb2671"
      },
      "execution_count": null,
      "outputs": [
        {
          "output_type": "stream",
          "name": "stdout",
          "text": [
            "Summary, Pregnancies, Glucose, BloodPressure\n",
            "+-------+------------------+-----------------+------------------+\n",
            "|Summary|       Pregnancies|          Glucose|     BloodPressure|\n",
            "+-------+------------------+-----------------+------------------+\n",
            "|  count|               768|              768|               768|\n",
            "|   mean|3.8450520833333335|     120.89453125|       69.10546875|\n",
            "| stddev|  3.36957806269887|31.97261819513622|19.355807170644777|\n",
            "|    min|                 0|                0|                 0|\n",
            "|    max|                17|              199|               122|\n",
            "+-------+------------------+-----------------+------------------+\n",
            "\n",
            "Summary, SkinThickness, Insulin\n",
            "+-------+------------------+------------------+\n",
            "|Summary|     SkinThickness|           Insulin|\n",
            "+-------+------------------+------------------+\n",
            "|  count|               768|               768|\n",
            "|   mean|20.536458333333332| 79.79947916666667|\n",
            "| stddev|15.952217567727642|115.24400235133803|\n",
            "|    min|                 0|                 0|\n",
            "|    max|                99|               846|\n",
            "+-------+------------------+------------------+\n",
            "\n",
            "Summary, BMI, DiabetesPedigreeFunction, Age\n",
            "+-------+------------------+------------------------+------------------+\n",
            "|Summary|               BMI|DiabetesPedigreeFunction|               Age|\n",
            "+-------+------------------+------------------------+------------------+\n",
            "|  count|               768|                     768|               768|\n",
            "|   mean|31.992578124999977|      0.4718763020833327|33.240885416666664|\n",
            "| stddev| 7.884160320375441|       0.331328595012775|11.760231540678689|\n",
            "|    min|               0.0|                   0.078|                21|\n",
            "|    max|              67.1|                    2.42|                81|\n",
            "+-------+------------------+------------------------+------------------+\n",
            "\n"
          ]
        }
      ]
    },
    {
      "cell_type": "code",
      "source": [
        "# replace min value of zeros with Nan as data cleaning processs\n",
        "\n",
        "import numpy as np\n",
        "from pyspark.sql.functions import when\n",
        "dataset=dataset.withColumn(\"Glucose\",when(dataset.Glucose==0,np.nan).otherwise (dataset.Glucose))\n",
        "dataset=dataset.withColumn(\"BloodPressure\",when(dataset.BloodPressure==0,np.nan).otherwise(dataset.BloodPressure))\n",
        "dataset=dataset.withColumn(\"SkinThickness\",when(dataset.SkinThickness==0,np.nan).otherwise(dataset.SkinThickness))\n",
        "dataset=dataset.withColumn(\"BMI\",when(dataset.BMI==0,np.nan).otherwise(dataset.BMI))\n",
        "dataset=dataset.withColumn(\"Insulin\",when(dataset.Insulin==0,np.nan).otherwise(dataset.Insulin))\n",
        "dataset.select(\"Insulin\",\"Glucose\",\"BloodPressure\",\"SkinThickness\",\"BMI\").show(5)"
      ],
      "metadata": {
        "colab": {
          "base_uri": "https://localhost:8080/"
        },
        "id": "_1O-zilzLEGU",
        "outputId": "95ac908c-0abb-4825-acf8-48184d3504a9"
      },
      "execution_count": null,
      "outputs": [
        {
          "output_type": "stream",
          "name": "stdout",
          "text": [
            "+-------+-------+-------------+-------------+----+\n",
            "|Insulin|Glucose|BloodPressure|SkinThickness| BMI|\n",
            "+-------+-------+-------------+-------------+----+\n",
            "|    NaN|  148.0|         72.0|         35.0|33.6|\n",
            "|    NaN|   85.0|         66.0|         29.0|26.6|\n",
            "|    NaN|  183.0|         64.0|          NaN|23.3|\n",
            "|   94.0|   89.0|         66.0|         23.0|28.1|\n",
            "|  168.0|  137.0|         40.0|         35.0|43.1|\n",
            "+-------+-------+-------------+-------------+----+\n",
            "only showing top 5 rows\n",
            "\n"
          ]
        }
      ]
    },
    {
      "cell_type": "code",
      "source": [
        "#impute\n",
        "from pyspark.ml.feature import Imputer\n",
        "imputer=Imputer(inputCols=[\"Glucose\",\"BloodPressure\",\"SkinThickness\",\"BMI\",\"Insulin\"],outputCols=[\"Glucose\",\"BloodPressure\",\"SkinThickness\",\"BMI\",\"Insulin\"])\n",
        "model=imputer.fit(dataset)\n",
        "dataset=model.transform(dataset)\n",
        "dataset.show()"
      ],
      "metadata": {
        "colab": {
          "base_uri": "https://localhost:8080/"
        },
        "id": "BT5bZANjN0sF",
        "outputId": "82d79d16-6c90-4a7f-ba46-afd517ce6478"
      },
      "execution_count": null,
      "outputs": [
        {
          "output_type": "stream",
          "name": "stdout",
          "text": [
            "+-----------+-------+-----------------+------------------+-----------------+-----------------+------------------------+---+-------+\n",
            "|Pregnancies|Glucose|    BloodPressure|     SkinThickness|          Insulin|              BMI|DiabetesPedigreeFunction|Age|Outcome|\n",
            "+-----------+-------+-----------------+------------------+-----------------+-----------------+------------------------+---+-------+\n",
            "|          6|  148.0|             72.0|              35.0|155.5482233502538|             33.6|                   0.627| 50|      1|\n",
            "|          1|   85.0|             66.0|              29.0|155.5482233502538|             26.6|                   0.351| 31|      0|\n",
            "|          8|  183.0|             64.0|29.153419593345657|155.5482233502538|             23.3|                   0.672| 32|      1|\n",
            "|          1|   89.0|             66.0|              23.0|             94.0|             28.1|                   0.167| 21|      0|\n",
            "|          0|  137.0|             40.0|              35.0|            168.0|             43.1|                   2.288| 33|      1|\n",
            "|          5|  116.0|             74.0|29.153419593345657|155.5482233502538|             25.6|                   0.201| 30|      0|\n",
            "|          3|   78.0|             50.0|              32.0|             88.0|             31.0|                   0.248| 26|      1|\n",
            "|         10|  115.0|72.40518417462484|29.153419593345657|155.5482233502538|             35.3|                   0.134| 29|      0|\n",
            "|          2|  197.0|             70.0|              45.0|            543.0|             30.5|                   0.158| 53|      1|\n",
            "|          8|  125.0|             96.0|29.153419593345657|155.5482233502538|32.45746367239099|                   0.232| 54|      1|\n",
            "|          4|  110.0|             92.0|29.153419593345657|155.5482233502538|             37.6|                   0.191| 30|      0|\n",
            "|         10|  168.0|             74.0|29.153419593345657|155.5482233502538|             38.0|                   0.537| 34|      1|\n",
            "|         10|  139.0|             80.0|29.153419593345657|155.5482233502538|             27.1|                   1.441| 57|      0|\n",
            "|          1|  189.0|             60.0|              23.0|            846.0|             30.1|                   0.398| 59|      1|\n",
            "|          5|  166.0|             72.0|              19.0|            175.0|             25.8|                   0.587| 51|      1|\n",
            "|          7|  100.0|72.40518417462484|29.153419593345657|155.5482233502538|             30.0|                   0.484| 32|      1|\n",
            "|          0|  118.0|             84.0|              47.0|            230.0|             45.8|                   0.551| 31|      1|\n",
            "|          7|  107.0|             74.0|29.153419593345657|155.5482233502538|             29.6|                   0.254| 31|      1|\n",
            "|          1|  103.0|             30.0|              38.0|             83.0|             43.3|                   0.183| 33|      0|\n",
            "|          1|  115.0|             70.0|              30.0|             96.0|             34.6|                   0.529| 32|      1|\n",
            "+-----------+-------+-----------------+------------------+-----------------+-----------------+------------------------+---+-------+\n",
            "only showing top 20 rows\n",
            "\n"
          ]
        }
      ]
    },
    {
      "cell_type": "code",
      "source": [
        "#combine all the features in one single feature vector.\n",
        "cols=dataset.columns\n",
        "cols.remove(\"Outcome\")\n",
        "\n",
        "# Let us import the vector assembler\n",
        "from pyspark.ml.feature import VectorAssembler\n",
        "\n",
        "assembler = VectorAssembler(inputCols=cols,outputCol=\"features\")\n",
        "\n",
        "# Now let us use the transform method to transform our dataset\n",
        "dataset=assembler.transform(dataset)\n",
        "dataset.select(\"features\").show(truncate=False)"
      ],
      "metadata": {
        "colab": {
          "base_uri": "https://localhost:8080/"
        },
        "id": "WpBPVLoUOFRm",
        "outputId": "f3851f1c-acdc-4851-9925-01a7acf72bb2"
      },
      "execution_count": null,
      "outputs": [
        {
          "output_type": "stream",
          "name": "stdout",
          "text": [
            "+-----------------------------------------------------------------------------------+\n",
            "|features                                                                           |\n",
            "+-----------------------------------------------------------------------------------+\n",
            "|[6.0,148.0,72.0,35.0,155.5482233502538,33.6,0.627,50.0]                            |\n",
            "|[1.0,85.0,66.0,29.0,155.5482233502538,26.6,0.351,31.0]                             |\n",
            "|[8.0,183.0,64.0,29.153419593345657,155.5482233502538,23.3,0.672,32.0]              |\n",
            "|[1.0,89.0,66.0,23.0,94.0,28.1,0.167,21.0]                                          |\n",
            "|[0.0,137.0,40.0,35.0,168.0,43.1,2.288,33.0]                                        |\n",
            "|[5.0,116.0,74.0,29.153419593345657,155.5482233502538,25.6,0.201,30.0]              |\n",
            "|[3.0,78.0,50.0,32.0,88.0,31.0,0.248,26.0]                                          |\n",
            "|[10.0,115.0,72.40518417462484,29.153419593345657,155.5482233502538,35.3,0.134,29.0]|\n",
            "|[2.0,197.0,70.0,45.0,543.0,30.5,0.158,53.0]                                        |\n",
            "|[8.0,125.0,96.0,29.153419593345657,155.5482233502538,32.45746367239099,0.232,54.0] |\n",
            "|[4.0,110.0,92.0,29.153419593345657,155.5482233502538,37.6,0.191,30.0]              |\n",
            "|[10.0,168.0,74.0,29.153419593345657,155.5482233502538,38.0,0.537,34.0]             |\n",
            "|[10.0,139.0,80.0,29.153419593345657,155.5482233502538,27.1,1.441,57.0]             |\n",
            "|[1.0,189.0,60.0,23.0,846.0,30.1,0.398,59.0]                                        |\n",
            "|[5.0,166.0,72.0,19.0,175.0,25.8,0.587,51.0]                                        |\n",
            "|[7.0,100.0,72.40518417462484,29.153419593345657,155.5482233502538,30.0,0.484,32.0] |\n",
            "|[0.0,118.0,84.0,47.0,230.0,45.8,0.551,31.0]                                        |\n",
            "|[7.0,107.0,74.0,29.153419593345657,155.5482233502538,29.6,0.254,31.0]              |\n",
            "|[1.0,103.0,30.0,38.0,83.0,43.3,0.183,33.0]                                         |\n",
            "|[1.0,115.0,70.0,30.0,96.0,34.6,0.529,32.0]                                         |\n",
            "+-----------------------------------------------------------------------------------+\n",
            "only showing top 20 rows\n",
            "\n"
          ]
        }
      ]
    },
    {
      "cell_type": "code",
      "source": [
        "#Standard Sclarizer (Normalization i.e., to bring everything in the same range)\n",
        "from pyspark.ml.feature import StandardScaler\n",
        "standardscaler=StandardScaler().setInputCol(\"features\").setOutputCol(\"Scaled_features\")\n",
        "dataset=standardscaler.fit(dataset).transform(dataset)\n",
        "dataset.select(\"features\",\"Scaled_features\").show(5)"
      ],
      "metadata": {
        "colab": {
          "base_uri": "https://localhost:8080/"
        },
        "id": "eMlWxChNQEa0",
        "outputId": "98c0541f-0191-4e33-cb9e-ed0cf74853bd"
      },
      "execution_count": null,
      "outputs": [
        {
          "output_type": "stream",
          "name": "stdout",
          "text": [
            "+--------------------+--------------------+\n",
            "|            features|     Scaled_features|\n",
            "+--------------------+--------------------+\n",
            "|[6.0,148.0,72.0,3...|[1.78063837321943...|\n",
            "|[1.0,85.0,66.0,29...|[0.29677306220323...|\n",
            "|[8.0,183.0,64.0,2...|[2.37418449762590...|\n",
            "|[1.0,89.0,66.0,23...|[0.29677306220323...|\n",
            "|[0.0,137.0,40.0,3...|[0.0,4.5012560836...|\n",
            "+--------------------+--------------------+\n",
            "only showing top 5 rows\n",
            "\n"
          ]
        }
      ]
    },
    {
      "cell_type": "code",
      "source": [
        "#Train, test split\n",
        "train, test = dataset.randomSplit([0.8, 0.2], seed=12345)"
      ],
      "metadata": {
        "id": "35jWt1f6Qu8k"
      },
      "execution_count": null,
      "outputs": []
    },
    {
      "cell_type": "code",
      "source": [
        "#imbalance in the dataset\n",
        "dataset_size=float(train.select(\"Outcome\").count())\n",
        "numPositives=train.select(\"Outcome\").where('Outcome == 1').count()\n",
        "per_ones=(float(numPositives)/float(dataset_size))*100\n",
        "numNegatives=float(dataset_size-numPositives)\n",
        "print('The number of ones are {}'.format(numPositives))\n",
        "print('Percentage of ones are {}'.format(per_ones))"
      ],
      "metadata": {
        "colab": {
          "base_uri": "https://localhost:8080/"
        },
        "id": "c7UqZwfjRpv8",
        "outputId": "9f152886-6e90-4d99-e03b-b234c935277d"
      },
      "execution_count": null,
      "outputs": [
        {
          "output_type": "stream",
          "name": "stdout",
          "text": [
            "The number of ones are 221\n",
            "Percentage of ones are 35.24720893141946\n"
          ]
        }
      ]
    },
    {
      "cell_type": "code",
      "source": [
        "BalancingRatio= numNegatives/dataset_size\n",
        "print('BalancingRatio = {}'.format(BalancingRatio))"
      ],
      "metadata": {
        "colab": {
          "base_uri": "https://localhost:8080/"
        },
        "id": "foa890e3Schh",
        "outputId": "cb6d0750-5002-47a1-d67c-b7e87d71fa60"
      },
      "execution_count": null,
      "outputs": [
        {
          "output_type": "stream",
          "name": "stdout",
          "text": [
            "BalancingRatio = 0.6475279106858054\n"
          ]
        }
      ]
    },
    {
      "cell_type": "code",
      "source": [
        "# balance \n",
        "train=train.withColumn(\"classWeights\", when(train.Outcome == 1,BalancingRatio).otherwise(1-BalancingRatio))\n",
        "train.select(\"classWeights\").show(5)"
      ],
      "metadata": {
        "colab": {
          "base_uri": "https://localhost:8080/"
        },
        "id": "_SGU5YwpTjgz",
        "outputId": "b79a42f7-97a2-4729-a87f-4dfdd06bdec8"
      },
      "execution_count": null,
      "outputs": [
        {
          "output_type": "stream",
          "name": "stdout",
          "text": [
            "+------------------+\n",
            "|      classWeights|\n",
            "+------------------+\n",
            "|0.3524720893141946|\n",
            "|0.3524720893141946|\n",
            "|0.3524720893141946|\n",
            "|0.3524720893141946|\n",
            "|0.3524720893141946|\n",
            "+------------------+\n",
            "only showing top 5 rows\n",
            "\n"
          ]
        }
      ]
    },
    {
      "cell_type": "code",
      "source": [
        "#Feature selection\n",
        "\n",
        "#Feature selection using chisquareSelector\n",
        "from pyspark.ml.feature import ChiSqSelector\n",
        "css = ChiSqSelector(featuresCol='Scaled_features',outputCol='Aspect',labelCol='Outcome',fpr=0.05)\n",
        "train=css.fit(train).transform(train)\n",
        "test=css.fit(test).transform(test)\n",
        "test.select(\"Aspect\").show(5,truncate=False)"
      ],
      "metadata": {
        "colab": {
          "base_uri": "https://localhost:8080/"
        },
        "id": "Xeb0iD6tUAes",
        "outputId": "2e06248a-cc63-4a1f-ae3b-5ebfa1ac62fe"
      },
      "execution_count": null,
      "outputs": [
        {
          "output_type": "stream",
          "name": "stdout",
          "text": [
            "+----------------------------------------------------------------------------------------------------------------------------------------+\n",
            "|Aspect                                                                                                                                  |\n",
            "+----------------------------------------------------------------------------------------------------------------------------------------+\n",
            "|[0.0,2.7598942410664704,6.778906518747398,3.526357045954172,1.4702231396384098,5.556241336417194,0.7032293726142661,1.955743806611537]  |\n",
            "|[0.0,3.3184442660442084,5.290853868290652,1.93380870262003,1.8295247783934943,3.0544782215906037,0.7605742570763735,1.785679127775751]  |\n",
            "|[0.0,3.3184442660442084,5.373523459982693,3.1850966866682846,1.8295247783934943,3.5781030595775647,0.7153019798694465,1.870711467193644]|\n",
            "|[0.0,3.3513001498664283,6.2002193769031075,2.616329421191805,1.8295247783934943,4.720981710256498,1.726382837490816,1.785679127775751]  |\n",
            "|[0.0,3.449867801333088,5.621532235058818,2.5025759680965094,1.8295247783934943,2.9090268777053367,0.7122838280556514,1.870711467193644] |\n",
            "+----------------------------------------------------------------------------------------------------------------------------------------+\n",
            "only showing top 5 rows\n",
            "\n"
          ]
        }
      ]
    },
    {
      "cell_type": "code",
      "source": [
        "#Building a classification model using Logistic Regression (LR)\n",
        "from pyspark.ml.classification import LogisticRegression\n",
        "lr = LogisticRegression(labelCol=\"Outcome\", featuresCol=\"Aspect\",weightCol=\"classWeights\",maxIter=10)\n",
        "model=lr.fit(train)\n",
        "predict_train=model.transform(train)\n",
        "predict_test=model.transform(test)\n",
        "predict_test.select(\"Outcome\",\"prediction\").show(10)"
      ],
      "metadata": {
        "colab": {
          "base_uri": "https://localhost:8080/"
        },
        "id": "oLcgTlZeUCqc",
        "outputId": "36cae894-7354-4a6c-c88e-43b0fea6b06d"
      },
      "execution_count": null,
      "outputs": [
        {
          "output_type": "stream",
          "name": "stdout",
          "text": [
            "+-------+----------+\n",
            "|Outcome|prediction|\n",
            "+-------+----------+\n",
            "|      0|       0.0|\n",
            "|      0|       0.0|\n",
            "|      0|       0.0|\n",
            "|      0|       0.0|\n",
            "|      0|       0.0|\n",
            "|      0|       0.0|\n",
            "|      0|       0.0|\n",
            "|      0|       0.0|\n",
            "|      1|       1.0|\n",
            "|      1|       1.0|\n",
            "+-------+----------+\n",
            "only showing top 10 rows\n",
            "\n"
          ]
        }
      ]
    },
    {
      "cell_type": "code",
      "source": [
        "#Evaluating the model\n",
        "from pyspark.ml.evaluation import BinaryClassificationEvaluator\n",
        "from pyspark.ml.evaluation import BinaryClassificationEvaluator\n",
        "evaluator=BinaryClassificationEvaluator(rawPredictionCol=\"rawPrediction\",labelCol=\"Outcome\")\n",
        "predict_test.select(\"Outcome\",\"rawPrediction\",\"prediction\",\"probability\").show(5)"
      ],
      "metadata": {
        "colab": {
          "base_uri": "https://localhost:8080/"
        },
        "id": "-MzqWuqLUJxk",
        "outputId": "9c34aa12-33b9-45d2-a34d-ec5a6b6aca62"
      },
      "execution_count": null,
      "outputs": [
        {
          "output_type": "stream",
          "name": "stdout",
          "text": [
            "+-------+--------------------+----------+--------------------+\n",
            "|Outcome|       rawPrediction|prediction|         probability|\n",
            "+-------+--------------------+----------+--------------------+\n",
            "|      0|[1.92703060509029...|       0.0|[0.87292038835456...|\n",
            "|      0|[2.86679587735939...|       0.0|[0.94618041741076...|\n",
            "|      0|[2.56925761588805...|       0.0|[0.92885665332668...|\n",
            "|      0|[1.51041800877943...|       0.0|[0.81912314746457...|\n",
            "|      0|[2.86307413613929...|       0.0|[0.94599058003314...|\n",
            "+-------+--------------------+----------+--------------------+\n",
            "only showing top 5 rows\n",
            "\n"
          ]
        }
      ]
    },
    {
      "cell_type": "code",
      "source": [
        "print(model.summary)\n",
        "import matplotlib.pyplot as plt\n",
        "pr = model.summary.pr.toPandas()\n",
        "plt.plot(pr['recall'],pr['precision'])\n",
        "plt.ylabel('Precision')\n",
        "plt.xlabel('Recall')\n",
        "plt.show()"
      ],
      "metadata": {
        "colab": {
          "base_uri": "https://localhost:8080/",
          "height": 296
        },
        "id": "5TJYVSJPUQXE",
        "outputId": "39849047-3709-4663-e98b-616656cdb1fc"
      },
      "execution_count": null,
      "outputs": [
        {
          "output_type": "stream",
          "name": "stdout",
          "text": [
            "<pyspark.ml.classification.BinaryLogisticRegressionTrainingSummary object at 0x7f27d8f8ff40>\n"
          ]
        },
        {
          "output_type": "display_data",
          "data": {
            "text/plain": [
              "<Figure size 432x288 with 1 Axes>"
            ],
            "image/png": "[encoded data removed]"
          },
          "metadata": {
            "needs_background": "light"
          }
        }
      ]
    }
  ]
}